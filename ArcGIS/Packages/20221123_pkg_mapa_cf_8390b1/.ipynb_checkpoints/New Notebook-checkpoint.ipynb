{
 "cells": [
  {
   "cell_type": "code",
   "execution_count": null,
   "metadata": {},
   "outputs": [],
   "source": [
    "project = arcpy.mp.ArcGISProject(\"CURRENT\")  #\"CURRENT\" can also be used to replace the path\n",
    "lyt = project.listLayouts()[0] #x: The number of the layout within the project\n",
    "ms = lyt.mapSeries\n",
    "ms.exportToPDF(r'C:\\Users\\phpor\\Documents\\GitHub\\tnc\\Scripts\\Toolbox\\Project\n",
    "#ms.exportToPDF(os.path.join(output, f'{lyt.name}'))\n",
    "print(\"Export Succeeded\")"
   ]
  }
 ],
 "metadata": {
  "kernelspec": {
   "display_name": "ArcGISPro",
   "language": "Python",
   "name": "python3"
  },
  "language_info": {
   "file_extension": ".py",
   "name": "python",
   "version": "3"
  }
 },
 "nbformat": 4,
 "nbformat_minor": 2
}
