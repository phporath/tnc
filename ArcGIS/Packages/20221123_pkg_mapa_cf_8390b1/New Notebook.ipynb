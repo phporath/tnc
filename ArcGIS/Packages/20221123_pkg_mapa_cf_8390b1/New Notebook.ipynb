{
 "cells": [
  {
   "cell_type": "code",
   "execution_count": 2,
   "metadata": {},
   "outputs": [
    {
     "name": "stdout",
     "output_type": "stream",
     "text": [
      "1\n",
      "Export Succeeded\n"
     ]
    }
   ],
   "source": [
    "project = arcpy.mp.ArcGISProject(\"CURRENT\")  #\"CURRENT\" can also be used to replace the path\n",
    "lyt = project.listLayouts()[0] #x: The number of the layout within the project\n",
    "ms = lyt.mapSeries\n",
    "pageNumber = ms.getPageNumberFromName(\"ALEXANDRA MIRANDA SILVA\")\n",
    "print(pageNumber)\n",
    "ms.exportToPDF(r'C:\\Users\\phpor\\Documents\\GitHub\\tnc\\Scripts\\Toolbox\\Project\\teste')\n",
    "#ms.exportToPDF(os.path.join(output, f'{lyt.name}'))\n",
    "print(\"Export Succeeded\")"
   ]
  },
  {
   "cell_type": "code",
   "execution_count": null,
   "metadata": {},
   "outputs": [],
   "source": [
    "import arcpy, os, sys\n",
    "relpath = os.path.dirname(sys.argv[0])\n",
    "\n",
    "p = arcpy.mp.ArcGISProject(relpath + \"\\\\MapSeries\\\\US_States.aprx\")\n",
    "l = p.listLayouts()[0]\n",
    "if not l.mapSeries is None:\n",
    "  ms = l.mapSeries\n",
    "  if ms.enabled:\n",
    "    for pageNum in range(1, ms.pageCount + 1):\n",
    "      ms.currentPageNumber = pageNum\n",
    "      print(\"Exporting {0}\".format(ms.pageRow.STATE_NAME))\n",
    "      pageName = ms.pageRow.STATE_NAME\n",
    "      l.exportToPNG(os.path.join(relpath, \"Output\", f\"Ex2_{ms.pageRow.STATE_NAME}.png\"))"
   ]
  },
  {
   "cell_type": "code",
   "execution_count": 9,
   "metadata": {},
   "outputs": [
    {
     "name": "stdout",
     "output_type": "stream",
     "text": [
      "Exporting ALEXANDRA MIRANDA SILVA\n",
      "Exporting ISABEL ROCHA DE SOUSA\n",
      "Exporting JULIO CESAR ROCHA DOS SANTOS\n",
      "Exporting MANOEL DORIZAN DA SILVA SANTOS\n",
      "Exporting VALDEREZ BARBOSA DOS SANTOS\n",
      "Exporting WELINTON FEITOSA ARAÚJO\n"
     ]
    }
   ],
   "source": [
    "import arcpy, os, sys\n",
    "\n",
    "project = arcpy.mp.ArcGISProject(\"CURRENT\")  #\"CURRENT\" can also be used to replace the path\n",
    "lyt = project.listLayouts()[0] #x: The number of the layout within the project\n",
    "\n",
    "relpath = r'C:\\Users\\phpor\\Documents\\GitHub\\tnc\\Scripts\\Toolbox\\Project'\n",
    "if not lyt.mapSeries is None:\n",
    "    ms = lyt.mapSeries\n",
    "    if ms.enabled:\n",
    "        for pageNum in range(1, ms.pageCount + 1):\n",
    "            ms.currentPageNumber = pageNum\n",
    "            print(\"Exporting {0}\".format(ms.pageRow.NM_PRODTOR))\n",
    "            #pageName = ms.pageRow.NM_PRODTOR\n",
    "            lyt.exportToPNG(os.path.join(relpath, f\"{int(ms.pageRow.ID_IMOVEL)} - {ms.pageRow.NM_PRODTOR}.png\"))\n"
   ]
  },
  {
   "cell_type": "code",
   "execution_count": 10,
   "metadata": {},
   "outputs": [
    {
     "name": "stdout",
     "output_type": "stream",
     "text": [
      "1\n",
      "Export Succeeded\n"
     ]
    }
   ],
   "source": [
    "project = arcpy.mp.ArcGISProject(\"CURRENT\")  #\"CURRENT\" can also be used to replace the path\n",
    "output = r'C:\\Users\\phpor\\Documents\\GitHub\\tnc\\Scripts\\Toolbox\\Project'\n",
    "lyt = project.listLayouts()[0] #x: The number of the layout within the project\n",
    "ms = lyt.mapSeries\n",
    "pageNumber = ms.getPageNumberFromName(\"ALEXANDRA MIRANDA SILVA\")\n",
    "print(pageNumber)\n",
    "ms.exportToPDF(os.path.join(output, f\"{int(ms.pageRow.ID_IMOVEL)} - {ms.pageRow.NM_PRODTOR}.pdf\"), multiple_files='PDF_MULTIPLE_FILES_PAGE_NAME')\n",
    "#ms.exportToPDF(os.path.join(output, f'{lyt.name}'))\n",
    "print(\"Export Succeeded\")"
   ]
  },
  {
   "cell_type": "code",
   "execution_count": 18,
   "metadata": {},
   "outputs": [
    {
     "name": "stdout",
     "output_type": "stream",
     "text": [
      "Exporting ALEXANDRA MIRANDA SILVA\n",
      "Exporting ISABEL ROCHA DE SOUSA\n",
      "Exporting JULIO CESAR ROCHA DOS SANTOS\n",
      "Exporting MANOEL DORIZAN DA SILVA SANTOS\n",
      "Exporting VALDEREZ BARBOSA DOS SANTOS\n",
      "Exporting WELINTON FEITOSA ARAÚJO\n"
     ]
    }
   ],
   "source": [
    "import arcpy, os, sys\n",
    "\n",
    "project = arcpy.mp.ArcGISProject(\"CURRENT\")  #\"CURRENT\" can also be used to replace the path\n",
    "lyt = project.listLayouts()[0] #x: The number of the layout within the project\n",
    "\n",
    "relpath = r'C:\\Users\\phpor\\Documents\\GitHub\\tnc\\Scripts\\Toolbox\\Project'\n",
    "if not lyt.mapSeries is None:\n",
    "    ms = lyt.mapSeries\n",
    "    if ms.enabled:\n",
    "        for pageNum in range(1, ms.pageCount + 1):\n",
    "            ms.currentPageNumber = pageNum\n",
    "            print(\"Exporting {0}\".format(ms.pageRow.NM_PRODTOR))\n",
    "            #pageName = ms.pageRow.NM_PRODTOR\n",
    "            lyt.exportToJPEG(os.path.join(relpath, f\"{int(ms.pageRow.ID_IMOVEL)} - {ms.pageRow.NM_PRODTOR}.jpg\"), resolution=300)\n",
    "            lyt.exportToPDF(os.path.join(output, f\"{int(ms.pageRow.ID_IMOVEL)} - {ms.pageRow.NM_PRODTOR}.pdf\"), resolution=300)\n"
   ]
  },
  {
   "cell_type": "code",
   "execution_count": null,
   "metadata": {},
   "outputs": [],
   "source": []
  }
 ],
 "metadata": {
  "kernelspec": {
   "display_name": "ArcGISPro",
   "language": "Python",
   "name": "python3"
  },
  "language_info": {
   "file_extension": ".py",
   "name": "python",
   "version": "3"
  }
 },
 "nbformat": 4,
 "nbformat_minor": 2
}
